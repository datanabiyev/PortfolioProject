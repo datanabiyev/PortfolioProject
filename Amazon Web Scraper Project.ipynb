{
 "cells": [
  {
   "cell_type": "code",
   "execution_count": 78,
   "id": "4b3c46fa-fcc3-4535-9214-57b907afc102",
   "metadata": {},
   "outputs": [],
   "source": [
    "# Import libraries\n",
    "from bs4 import BeautifulSoup\n",
    "import requests\n",
    "import smtplib # for sending emails to myself\n",
    "import time\n",
    "import datetime\n"
   ]
  },
  {
   "cell_type": "code",
   "execution_count": 79,
   "id": "d0ad61c0-c568-4faf-9546-01d5ea07c749",
   "metadata": {},
   "outputs": [
    {
     "name": "stdout",
     "output_type": "stream",
     "text": [
      "\n",
      "             Hayabusa T3 Boxing Gloves for Men and Women Wrist and Knuckle Protection, Dual-X Hook and Loop Closure, Splinted Wrist Support, 5 Layer Foam Knuckle Padding\n",
      "            \n",
      "\n",
      "                            159\n",
      "                            \n",
      "                             .\n",
      "                            \n",
      "\n"
     ]
    }
   ],
   "source": [
    "# Connect to website\n",
    "URL = 'https://www.amazon.com/Hayabusa-T3-Boxing-Gloves-Black/dp/B07X5CXG3P/ref=sr_1_4_sspa?crid=3FECRYBDDTWG2&dib=eyJ2IjoiMSJ9.lh7oMxoCXOM9uRy5JT7U1lRvG6vuXz_V_mt-89fxoGt33N9ZVmGiodZxQhmO4KUnQkVRe3EZcjmLzBspCDuRWLaMCH3J_n5HORP7AzVzT9FvsoASR9hDxJzrv1CZ0IxpNI5dSRW91N3smUNeh3TZ2Ws6if6CKVNDlAQN23m7dME1rLPsF75mWDqVEoobg5jJyKnhmBk2SJyJ1iRBD_RuSZH6ZdVJon6Xl4OpI8xc-Cm0gt1LwIYwLDEgMh4RA_fiTjy9uxIAUNPpwzYIp1FolOSz4gxMvbvvaWt5efOgdGg.JyJM10jSxZc8-jymDmNV3IIOnr3wRE2E_toCzMW6S0M&dib_tag=se&keywords=boxing%2Bgloves&qid=1718522638&sprefix=boxing%2Bgloves%2Caps%2C431&sr=8-4-spons&sp_csd=d2lkZ2V0TmFtZT1zcF9hdGY&th=1&psc=1'\n",
    "\n",
    "headers = {\"User-Agent\": \"Mozilla/5.0 (Windows NT 10.0; Win64; x64) AppleWebKit/537.36 (KHTML, like Gecko) Chrome/78.0.3904.108 Safari/537.36\", \"Accept-Encoding\":\"gzip, deflate\", \"Accept\":\"text/html,application/xhtml+xml,application/xml;q=0.9,*/*;q=0.8\", \"DNT\":\"1\",\"Connection\":\"close\", \"Upgrade-Insecure-Requests\":\"1\"}\n",
    "\n",
    "page = requests.get(URL, headers = headers)\n",
    "\n",
    "soup1 = BeautifulSoup(page.content, \"html.parser\")\n",
    "\n",
    "soup2 = BeautifulSoup(soup1.prettify(), \"html.parser\")\n",
    "# print(soup2)\n",
    "\n",
    "title = soup2.find(id=\"productTitle\").get_text()\n",
    "price = soup2.find(\"span\", class_=\"a-price-whole\").get_text()\n",
    "\n",
    "print(title)\n",
    "print(price)\n"
   ]
  },
  {
   "cell_type": "code",
   "execution_count": 80,
   "id": "c17c5e5b-739d-477b-af59-cde27f70f76d",
   "metadata": {},
   "outputs": [
    {
     "name": "stdout",
     "output_type": "stream",
     "text": [
      "Hayabusa T3 Boxing Gloves for Men and Women Wrist and Knuckle Protection, Dual-X Hook and Loop Closure, Splinted Wrist Support, 5 Layer Foam Knuckle Padding\n",
      "159.\n"
     ]
    },
    {
     "data": {
      "text/plain": [
       "str"
      ]
     },
     "execution_count": 80,
     "metadata": {},
     "output_type": "execute_result"
    }
   ],
   "source": [
    "price = price.strip()\n",
    "price = price.replace('\\n', '')\n",
    "price = price.replace(' ', '')\n",
    "title = title.strip()\n",
    "\n",
    "print(title)\n",
    "print(price)\n",
    "type(price)"
   ]
  },
  {
   "cell_type": "code",
   "execution_count": 81,
   "id": "2a1c12b4-7b74-4bfc-8957-7e9a8ed4ae1d",
   "metadata": {},
   "outputs": [
    {
     "name": "stdout",
     "output_type": "stream",
     "text": [
      "2024-06-16\n"
     ]
    }
   ],
   "source": [
    "import datetime\n",
    "today = datetime.date.today()\n",
    "print(today)\n",
    "    "
   ]
  },
  {
   "cell_type": "code",
   "execution_count": 82,
   "id": "657a068c-999b-461d-a8bd-be033ad3be1e",
   "metadata": {},
   "outputs": [],
   "source": [
    "import csv\n",
    "\n",
    "header = ['Title', 'Price', 'Date']\n",
    "data = [title, price, today]\n",
    "#type(data)\n",
    "\n",
    "#with open('AmazonWebScraperDataset.csv', 'w', newline = '', encoding = 'UTF8') as f:\n",
    "    #writer = csv.writer(f)\n",
    "    #writer.writerow(header)\n",
    "    #writer.writerow(data)"
   ]
  },
  {
   "cell_type": "code",
   "execution_count": 83,
   "id": "adfeaebd-c061-4f38-a42a-7165a19f2692",
   "metadata": {},
   "outputs": [
    {
     "data": {
      "text/html": [
       "<div>\n",
       "<style scoped>\n",
       "    .dataframe tbody tr th:only-of-type {\n",
       "        vertical-align: middle;\n",
       "    }\n",
       "\n",
       "    .dataframe tbody tr th {\n",
       "        vertical-align: top;\n",
       "    }\n",
       "\n",
       "    .dataframe thead th {\n",
       "        text-align: right;\n",
       "    }\n",
       "</style>\n",
       "<table border=\"1\" class=\"dataframe\">\n",
       "  <thead>\n",
       "    <tr style=\"text-align: right;\">\n",
       "      <th></th>\n",
       "      <th>Title</th>\n",
       "      <th>Price</th>\n",
       "      <th>Date</th>\n",
       "    </tr>\n",
       "  </thead>\n",
       "  <tbody>\n",
       "    <tr>\n",
       "      <th>0</th>\n",
       "      <td>Hayabusa T3 Boxing Gloves for Men and Women Wr...</td>\n",
       "      <td>159.0</td>\n",
       "      <td>2024-06-16</td>\n",
       "    </tr>\n",
       "    <tr>\n",
       "      <th>1</th>\n",
       "      <td>Hayabusa T3 Boxing Gloves for Men and Women Wr...</td>\n",
       "      <td>159.0</td>\n",
       "      <td>2024-06-16</td>\n",
       "    </tr>\n",
       "    <tr>\n",
       "      <th>2</th>\n",
       "      <td>Hayabusa T3 Boxing Gloves for Men and Women Wr...</td>\n",
       "      <td>159.0</td>\n",
       "      <td>2024-06-16</td>\n",
       "    </tr>\n",
       "    <tr>\n",
       "      <th>3</th>\n",
       "      <td>Hayabusa T3 Boxing Gloves for Men and Women Wr...</td>\n",
       "      <td>159.0</td>\n",
       "      <td>2024-06-16</td>\n",
       "    </tr>\n",
       "    <tr>\n",
       "      <th>4</th>\n",
       "      <td>Hayabusa T3 Boxing Gloves for Men and Women Wr...</td>\n",
       "      <td>159.0</td>\n",
       "      <td>2024-06-16</td>\n",
       "    </tr>\n",
       "    <tr>\n",
       "      <th>5</th>\n",
       "      <td>Hayabusa T3 Boxing Gloves for Men and Women Wr...</td>\n",
       "      <td>159.0</td>\n",
       "      <td>2024-06-16</td>\n",
       "    </tr>\n",
       "    <tr>\n",
       "      <th>6</th>\n",
       "      <td>Hayabusa T3 Boxing Gloves for Men and Women Wr...</td>\n",
       "      <td>159.0</td>\n",
       "      <td>2024-06-16</td>\n",
       "    </tr>\n",
       "  </tbody>\n",
       "</table>\n",
       "</div>"
      ],
      "text/plain": [
       "                                               Title  Price        Date\n",
       "0  Hayabusa T3 Boxing Gloves for Men and Women Wr...  159.0  2024-06-16\n",
       "1  Hayabusa T3 Boxing Gloves for Men and Women Wr...  159.0  2024-06-16\n",
       "2  Hayabusa T3 Boxing Gloves for Men and Women Wr...  159.0  2024-06-16\n",
       "3  Hayabusa T3 Boxing Gloves for Men and Women Wr...  159.0  2024-06-16\n",
       "4  Hayabusa T3 Boxing Gloves for Men and Women Wr...  159.0  2024-06-16\n",
       "5  Hayabusa T3 Boxing Gloves for Men and Women Wr...  159.0  2024-06-16\n",
       "6  Hayabusa T3 Boxing Gloves for Men and Women Wr...  159.0  2024-06-16"
      ]
     },
     "execution_count": 83,
     "metadata": {},
     "output_type": "execute_result"
    }
   ],
   "source": [
    "import pandas as pd\n",
    "df = pd.read_csv(r'C:\\Users\\User\\AmazonWebScraperDataset.csv')\n",
    "df"
   ]
  },
  {
   "cell_type": "code",
   "execution_count": 64,
   "id": "d3744d52-75e7-46df-9369-2d82b671475e",
   "metadata": {},
   "outputs": [
    {
     "data": {
      "text/plain": [
       "str"
      ]
     },
     "execution_count": 64,
     "metadata": {},
     "output_type": "execute_result"
    }
   ],
   "source": [
    "type(price)"
   ]
  },
  {
   "cell_type": "code",
   "execution_count": 96,
   "id": "315d328c-9f64-4474-8589-eb35092085e7",
   "metadata": {},
   "outputs": [],
   "source": [
    "# Now we are appending data to this csv\n",
    "with open('AmazonWebScraperDataset.csv', 'a+', newline = '', encoding = 'UTF8') as f:\n",
    "    writer = csv.writer(f)\n",
    "    writer.writerow(data)"
   ]
  },
  {
   "cell_type": "code",
   "execution_count": 101,
   "id": "7267cb51-60ac-4c71-9f6f-1a4f1e4b7343",
   "metadata": {},
   "outputs": [],
   "source": [
    "def check_price():\n",
    "    URL = 'https://www.amazon.com/Hayabusa-T3-Boxing-Gloves-Black/dp/B07X5CXG3P/ref=sr_1_4_sspa?crid=3FECRYBDDTWG2&dib=eyJ2IjoiMSJ9.lh7oMxoCXOM9uRy5JT7U1lRvG6vuXz_V_mt-89fxoGt33N9ZVmGiodZxQhmO4KUnQkVRe3EZcjmLzBspCDuRWLaMCH3J_n5HORP7AzVzT9FvsoASR9hDxJzrv1CZ0IxpNI5dSRW91N3smUNeh3TZ2Ws6if6CKVNDlAQN23m7dME1rLPsF75mWDqVEoobg5jJyKnhmBk2SJyJ1iRBD_RuSZH6ZdVJon6Xl4OpI8xc-Cm0gt1LwIYwLDEgMh4RA_fiTjy9uxIAUNPpwzYIp1FolOSz4gxMvbvvaWt5efOgdGg.JyJM10jSxZc8-jymDmNV3IIOnr3wRE2E_toCzMW6S0M&dib_tag=se&keywords=boxing%2Bgloves&qid=1718522638&sprefix=boxing%2Bgloves%2Caps%2C431&sr=8-4-spons&sp_csd=d2lkZ2V0TmFtZT1zcF9hdGY&th=1&psc=1'\n",
    "    headers = {\"User-Agent\": \"Mozilla/5.0 (Windows NT 10.0; Win64; x64) AppleWebKit/537.36 (KHTML, like Gecko) Chrome/78.0.3904.108 Safari/537.36\", \"Accept-Encoding\":\"gzip, deflate\", \"Accept\":\"text/html,application/xhtml+xml,application/xml;q=0.9,*/*;q=0.8\", \"DNT\":\"1\",\"Connection\":\"close\", \"Upgrade-Insecure-Requests\":\"1\"}\n",
    "    page = requests.get(URL, headers = headers)\n",
    "    soup1 = BeautifulSoup(page.content, \"html.parser\")\n",
    "    soup2 = BeautifulSoup(soup1.prettify(), \"html.parser\")\n",
    "    title = soup2.find(id=\"productTitle\").get_text()\n",
    "    price = soup2.find(\"span\", class_=\"a-price-whole\").get_text()\n",
    "    price = price.strip()\n",
    "    price = price.replace('\\n', '')\n",
    "    price = price.replace(' ', '')\n",
    "    title = title.strip()\n",
    "    import datetime\n",
    "    today = datetime.date.today()\n",
    "    import csv\n",
    "    header = ['Title', 'Price', 'Date']\n",
    "    data = [title, price, today]\n",
    "    with open('AmazonWebScraperDataset.csv', 'a+', newline = '', encoding = 'UTF8') as f:\n",
    "        writer = csv.writer(f)\n",
    "        writer.writerow(data)\n",
    "   #if(price < '180'):\n",
    "   #     send_mail()\n",
    "    "
   ]
  },
  {
   "cell_type": "code",
   "execution_count": 102,
   "id": "fcb39d60-d1f7-42b0-a449-d4114ec8e655",
   "metadata": {},
   "outputs": [
    {
     "ename": "KeyboardInterrupt",
     "evalue": "",
     "output_type": "error",
     "traceback": [
      "\u001b[1;31m---------------------------------------------------------------------------\u001b[0m",
      "\u001b[1;31mKeyboardInterrupt\u001b[0m                         Traceback (most recent call last)",
      "Cell \u001b[1;32mIn[102], line 3\u001b[0m\n\u001b[0;32m      1\u001b[0m \u001b[38;5;28;01mwhile\u001b[39;00m(\u001b[38;5;28;01mTrue\u001b[39;00m):\n\u001b[0;32m      2\u001b[0m     check_price()\n\u001b[1;32m----> 3\u001b[0m     time\u001b[38;5;241m.\u001b[39msleep(\u001b[38;5;241m10\u001b[39m)\n",
      "\u001b[1;31mKeyboardInterrupt\u001b[0m: "
     ]
    }
   ],
   "source": [
    "while(True):\n",
    "    check_price()\n",
    "    time.sleep(10)"
   ]
  },
  {
   "cell_type": "code",
   "execution_count": 103,
   "id": "c246c58f-f2a8-47b0-bf3b-11abb3aad511",
   "metadata": {},
   "outputs": [
    {
     "data": {
      "text/html": [
       "<div>\n",
       "<style scoped>\n",
       "    .dataframe tbody tr th:only-of-type {\n",
       "        vertical-align: middle;\n",
       "    }\n",
       "\n",
       "    .dataframe tbody tr th {\n",
       "        vertical-align: top;\n",
       "    }\n",
       "\n",
       "    .dataframe thead th {\n",
       "        text-align: right;\n",
       "    }\n",
       "</style>\n",
       "<table border=\"1\" class=\"dataframe\">\n",
       "  <thead>\n",
       "    <tr style=\"text-align: right;\">\n",
       "      <th></th>\n",
       "      <th>Title</th>\n",
       "      <th>Price</th>\n",
       "      <th>Date</th>\n",
       "    </tr>\n",
       "  </thead>\n",
       "  <tbody>\n",
       "    <tr>\n",
       "      <th>0</th>\n",
       "      <td>Hayabusa T3 Boxing Gloves for Men and Women Wr...</td>\n",
       "      <td>159.0</td>\n",
       "      <td>2024-06-16</td>\n",
       "    </tr>\n",
       "    <tr>\n",
       "      <th>1</th>\n",
       "      <td>Hayabusa T3 Boxing Gloves for Men and Women Wr...</td>\n",
       "      <td>159.0</td>\n",
       "      <td>2024-06-16</td>\n",
       "    </tr>\n",
       "    <tr>\n",
       "      <th>2</th>\n",
       "      <td>Hayabusa T3 Boxing Gloves for Men and Women Wr...</td>\n",
       "      <td>159.0</td>\n",
       "      <td>2024-06-16</td>\n",
       "    </tr>\n",
       "    <tr>\n",
       "      <th>3</th>\n",
       "      <td>Hayabusa T3 Boxing Gloves for Men and Women Wr...</td>\n",
       "      <td>159.0</td>\n",
       "      <td>2024-06-16</td>\n",
       "    </tr>\n",
       "    <tr>\n",
       "      <th>4</th>\n",
       "      <td>Hayabusa T3 Boxing Gloves for Men and Women Wr...</td>\n",
       "      <td>159.0</td>\n",
       "      <td>2024-06-16</td>\n",
       "    </tr>\n",
       "    <tr>\n",
       "      <th>5</th>\n",
       "      <td>Hayabusa T3 Boxing Gloves for Men and Women Wr...</td>\n",
       "      <td>159.0</td>\n",
       "      <td>2024-06-16</td>\n",
       "    </tr>\n",
       "    <tr>\n",
       "      <th>6</th>\n",
       "      <td>Hayabusa T3 Boxing Gloves for Men and Women Wr...</td>\n",
       "      <td>159.0</td>\n",
       "      <td>2024-06-16</td>\n",
       "    </tr>\n",
       "    <tr>\n",
       "      <th>7</th>\n",
       "      <td>Hayabusa T3 Boxing Gloves for Men and Women Wr...</td>\n",
       "      <td>159.0</td>\n",
       "      <td>2024-06-16</td>\n",
       "    </tr>\n",
       "    <tr>\n",
       "      <th>8</th>\n",
       "      <td>Hayabusa T3 Boxing Gloves for Men and Women Wr...</td>\n",
       "      <td>159.0</td>\n",
       "      <td>2024-06-16</td>\n",
       "    </tr>\n",
       "    <tr>\n",
       "      <th>9</th>\n",
       "      <td>Hayabusa T3 Boxing Gloves for Men and Women Wr...</td>\n",
       "      <td>159.0</td>\n",
       "      <td>2024-06-16</td>\n",
       "    </tr>\n",
       "    <tr>\n",
       "      <th>10</th>\n",
       "      <td>Hayabusa T3 Boxing Gloves for Men and Women Wr...</td>\n",
       "      <td>159.0</td>\n",
       "      <td>2024-06-16</td>\n",
       "    </tr>\n",
       "    <tr>\n",
       "      <th>11</th>\n",
       "      <td>Hayabusa T3 Boxing Gloves for Men and Women Wr...</td>\n",
       "      <td>159.0</td>\n",
       "      <td>2024-06-16</td>\n",
       "    </tr>\n",
       "    <tr>\n",
       "      <th>12</th>\n",
       "      <td>Hayabusa T3 Boxing Gloves for Men and Women Wr...</td>\n",
       "      <td>159.0</td>\n",
       "      <td>2024-06-16</td>\n",
       "    </tr>\n",
       "    <tr>\n",
       "      <th>13</th>\n",
       "      <td>Hayabusa T3 Boxing Gloves for Men and Women Wr...</td>\n",
       "      <td>159.0</td>\n",
       "      <td>2024-06-16</td>\n",
       "    </tr>\n",
       "    <tr>\n",
       "      <th>14</th>\n",
       "      <td>Hayabusa T3 Boxing Gloves for Men and Women Wr...</td>\n",
       "      <td>159.0</td>\n",
       "      <td>2024-06-16</td>\n",
       "    </tr>\n",
       "    <tr>\n",
       "      <th>15</th>\n",
       "      <td>Hayabusa T3 Boxing Gloves for Men and Women Wr...</td>\n",
       "      <td>159.0</td>\n",
       "      <td>2024-06-16</td>\n",
       "    </tr>\n",
       "    <tr>\n",
       "      <th>16</th>\n",
       "      <td>Hayabusa T3 Boxing Gloves for Men and Women Wr...</td>\n",
       "      <td>159.0</td>\n",
       "      <td>2024-06-16</td>\n",
       "    </tr>\n",
       "    <tr>\n",
       "      <th>17</th>\n",
       "      <td>Hayabusa T3 Boxing Gloves for Men and Women Wr...</td>\n",
       "      <td>159.0</td>\n",
       "      <td>2024-06-16</td>\n",
       "    </tr>\n",
       "    <tr>\n",
       "      <th>18</th>\n",
       "      <td>Hayabusa T3 Boxing Gloves for Men and Women Wr...</td>\n",
       "      <td>159.0</td>\n",
       "      <td>2024-06-16</td>\n",
       "    </tr>\n",
       "  </tbody>\n",
       "</table>\n",
       "</div>"
      ],
      "text/plain": [
       "                                                Title  Price        Date\n",
       "0   Hayabusa T3 Boxing Gloves for Men and Women Wr...  159.0  2024-06-16\n",
       "1   Hayabusa T3 Boxing Gloves for Men and Women Wr...  159.0  2024-06-16\n",
       "2   Hayabusa T3 Boxing Gloves for Men and Women Wr...  159.0  2024-06-16\n",
       "3   Hayabusa T3 Boxing Gloves for Men and Women Wr...  159.0  2024-06-16\n",
       "4   Hayabusa T3 Boxing Gloves for Men and Women Wr...  159.0  2024-06-16\n",
       "5   Hayabusa T3 Boxing Gloves for Men and Women Wr...  159.0  2024-06-16\n",
       "6   Hayabusa T3 Boxing Gloves for Men and Women Wr...  159.0  2024-06-16\n",
       "7   Hayabusa T3 Boxing Gloves for Men and Women Wr...  159.0  2024-06-16\n",
       "8   Hayabusa T3 Boxing Gloves for Men and Women Wr...  159.0  2024-06-16\n",
       "9   Hayabusa T3 Boxing Gloves for Men and Women Wr...  159.0  2024-06-16\n",
       "10  Hayabusa T3 Boxing Gloves for Men and Women Wr...  159.0  2024-06-16\n",
       "11  Hayabusa T3 Boxing Gloves for Men and Women Wr...  159.0  2024-06-16\n",
       "12  Hayabusa T3 Boxing Gloves for Men and Women Wr...  159.0  2024-06-16\n",
       "13  Hayabusa T3 Boxing Gloves for Men and Women Wr...  159.0  2024-06-16\n",
       "14  Hayabusa T3 Boxing Gloves for Men and Women Wr...  159.0  2024-06-16\n",
       "15  Hayabusa T3 Boxing Gloves for Men and Women Wr...  159.0  2024-06-16\n",
       "16  Hayabusa T3 Boxing Gloves for Men and Women Wr...  159.0  2024-06-16\n",
       "17  Hayabusa T3 Boxing Gloves for Men and Women Wr...  159.0  2024-06-16\n",
       "18  Hayabusa T3 Boxing Gloves for Men and Women Wr...  159.0  2024-06-16"
      ]
     },
     "execution_count": 103,
     "metadata": {},
     "output_type": "execute_result"
    }
   ],
   "source": [
    "import pandas as pd\n",
    "df = pd.read_csv(r'C:\\Users\\User\\AmazonWebScraperDataset.csv')\n",
    "df"
   ]
  },
  {
   "cell_type": "code",
   "execution_count": 95,
   "id": "49404496-a5eb-4c9a-b40e-2909e91f92b0",
   "metadata": {},
   "outputs": [],
   "source": [
    "def send_mail():\n",
    "    server = smtplib.SMTP_SSL('smtp.gmail.com',465)\n",
    "    server.ehlo()\n",
    "    #server.starttls()\n",
    "    server.ehlo()\n",
    "    server.login('dauren.nabi@nu.edu.kz','Ruslanov179_')\n",
    "    \n",
    "    subject = \"The boxing gloves you want is below $140! Now is your chance to buy!\"\n",
    "    body = \"Dauren, This is the moment we have been waiting for. Now is your chance to pick up the shirt of your dreams. Don't mess it up! Link here: https://www.amazon.com/Hayabusa-T3-Boxing-Gloves-Black/dp/B07X5CXG3P/ref=sr_1_4_sspa?crid=3FECRYBDDTWG2&dib=eyJ2IjoiMSJ9.lh7oMxoCXOM9uRy5JT7U1lRvG6vuXz_V_mt-89fxoGt33N9ZVmGiodZxQhmO4KUnQkVRe3EZcjmLzBspCDuRWLaMCH3J_n5HORP7AzVzT9FvsoASR9hDxJzrv1CZ0IxpNI5dSRW91N3smUNeh3TZ2Ws6if6CKVNDlAQN23m7dME1rLPsF75mWDqVEoobg5jJyKnhmBk2SJyJ1iRBD_RuSZH6ZdVJon6Xl4OpI8xc-Cm0gt1LwIYwLDEgMh4RA_fiTjy9uxIAUNPpwzYIp1FolOSz4gxMvbvvaWt5efOgdGg.JyJM10jSxZc8-jymDmNV3IIOnr3wRE2E_toCzMW6S0M&dib_tag=se&keywords=boxing%2Bgloves&qid=1718522638&sprefix=boxing%2Bgloves%2Caps%2C431&sr=8-4-spons&sp_csd=d2lkZ2V0TmFtZT1zcF9hdGY&th=1&psc=1\"\n",
    "   \n",
    "    msg = f\"Subject: {subject}\\n\\n{body}\"\n",
    "    \n",
    "    server.sendmail(\n",
    "        'dauren.nabi@nu.edu.kz',\n",
    "        msg\n",
    "     \n",
    "    )"
   ]
  },
  {
   "cell_type": "code",
   "execution_count": null,
   "id": "fdc4f32f-5afc-47c3-b5e3-9550457ba0ec",
   "metadata": {},
   "outputs": [],
   "source": []
  }
 ],
 "metadata": {
  "kernelspec": {
   "display_name": "Python 3 (ipykernel)",
   "language": "python",
   "name": "python3"
  },
  "language_info": {
   "codemirror_mode": {
    "name": "ipython",
    "version": 3
   },
   "file_extension": ".py",
   "mimetype": "text/x-python",
   "name": "python",
   "nbconvert_exporter": "python",
   "pygments_lexer": "ipython3",
   "version": "3.11.7"
  }
 },
 "nbformat": 4,
 "nbformat_minor": 5
}
